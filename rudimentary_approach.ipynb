{
 "cells": [
  {
   "cell_type": "code",
   "execution_count": 19,
   "metadata": {},
   "outputs": [],
   "source": [
    "import PyPDF2\n",
    "import re\n",
    "import os\n",
    "import chemdataextractor"
   ]
  },
  {
   "cell_type": "code",
   "execution_count": 20,
   "metadata": {},
   "outputs": [],
   "source": [
    "list_of_files = os.listdir('./sample_methods')"
   ]
  },
  {
   "cell_type": "code",
   "execution_count": 21,
   "metadata": {},
   "outputs": [
    {
     "data": {
      "text/plain": [
       "['100011.pdf',\n",
       " '101212-E17D.pdf',\n",
       " '100024.pdf',\n",
       " '102452-E10B.pdf',\n",
       " '101931-E07B.pdf',\n",
       " '100077.pdf',\n",
       " '102557-E11A.pdf',\n",
       " '102668-E18B.pdf',\n",
       " '102819-E17A.pdf']"
      ]
     },
     "execution_count": 21,
     "metadata": {},
     "output_type": "execute_result"
    }
   ],
   "source": [
    "list_of_files"
   ]
  },
  {
   "cell_type": "code",
   "execution_count": 22,
   "metadata": {},
   "outputs": [],
   "source": [
    "def pdf_parser(filepath):\n",
    "    filename = filepath\n",
    "    pdfFileObj = open(filename,'rb')\n",
    "    pdfReader = PyPDF2.PdfFileReader(pdfFileObj)\n",
    "    num_pages = pdfReader.numPages\n",
    "    count = 0\n",
    "    text = \"\"\n",
    "    while count < num_pages:\n",
    "        pageObj = pdfReader.getPage(count)\n",
    "        count +=1\n",
    "        text += pageObj.extractText()\n",
    "        \n",
    "    if text != \"\":\n",
    "        text = text\n",
    "    \n",
    "#     else:\n",
    "#         text = textract.process(fileurl, method='tesseract', language='eng')\n",
    "    \n",
    "    return text\n"
   ]
  },
  {
   "cell_type": "code",
   "execution_count": 23,
   "metadata": {
    "scrolled": true
   },
   "outputs": [
    {
     "name": "stderr",
     "output_type": "stream",
     "text": [
      "PdfReadWarning: Xref table not zero-indexed. ID numbers for objects will be corrected. [pdf.py:1736]\n"
     ]
    }
   ],
   "source": [
    "text_list = [pdf_parser('sample_methods/' + i) for i in list_of_files]"
   ]
  },
  {
   "cell_type": "markdown",
   "metadata": {},
   "source": [
    "* __Deleted file no. 5__"
   ]
  },
  {
   "cell_type": "code",
   "execution_count": 24,
   "metadata": {},
   "outputs": [],
   "source": [
    "for idx, i in enumerate(text_list):\n",
    "    if i == '':\n",
    "        del text_list[idx]"
   ]
  },
  {
   "cell_type": "markdown",
   "metadata": {},
   "source": [
    "## Document ID"
   ]
  },
  {
   "cell_type": "code",
   "execution_count": 25,
   "metadata": {},
   "outputs": [
    {
     "data": {
      "text/plain": [
       "['100011',\n",
       " '101212-E17D',\n",
       " '100024',\n",
       " '102452-E10B',\n",
       " '101931-E07B',\n",
       " '102557-E11A',\n",
       " '102668-E18B',\n",
       " '102819-E17A']"
      ]
     },
     "execution_count": 25,
     "metadata": {},
     "output_type": "execute_result"
    }
   ],
   "source": [
    "doc_ids = [re.search(r'\\d{6,7}\\s{0,5}-\\s{0,5}\\w{0,1}\\s{0,5}\\d{0,2}\\s{0,5}\\w{0,2}\\s{0,5}B{0,1}', i, flags=0).group() \n",
    "           if re.search(r'\\d{6,7}\\s{0,5}-\\s{0,5}\\w{0,1}\\s{0,5}\\d{0,2}\\s{0,5}\\w{0,1}\\s{0,5}B{0,1}', i, flags=0) != None \n",
    "           else re.search(r'\\d{6,7}', i, flags=0).group() for i in text_list]\n",
    "\n",
    "doc_ids = [re.sub(r'[\\n\\s+]', '', i) for i in doc_ids]\n",
    "\n",
    "doc_ids"
   ]
  },
  {
   "cell_type": "markdown",
   "metadata": {},
   "source": [
    "## Extract Scope"
   ]
  },
  {
   "cell_type": "code",
   "execution_count": 90,
   "metadata": {},
   "outputs": [],
   "source": [
    "def scope_extractor(text):\n",
    "    scope_pattern = re.search(r'this\\smethod\\sis', text.lower(), flags=0)\n",
    "    next_sec_pattern = re.search(r'\\d.\\s+\\w+.', text[scope_pattern.start():], flags=0)\n",
    "    return text[scope_pattern.start():scope_pattern.start() + next_sec_pattern.start()]"
   ]
  },
  {
   "cell_type": "code",
   "execution_count": 99,
   "metadata": {},
   "outputs": [],
   "source": [
    "extracted_scopes = [scope_extractor(i) for i in text_list]"
   ]
  },
  {
   "cell_type": "code",
   "execution_count": 100,
   "metadata": {},
   "outputs": [
    {
     "data": {
      "text/plain": [
       "'This method is applicable to the determination of \\nvolatiles \\nin \\n\\nCellulose\\n \\n(HEC)\\n, with upper limit of specification \\nof 6% f\\nor most HEC grades \\nand maximum \\nof \\n8\\n% \\nfor some grades\\n. \\n \\n \\n'"
      ]
     },
     "execution_count": 100,
     "metadata": {},
     "output_type": "execute_result"
    }
   ],
   "source": [
    "extracted_scopes[6]"
   ]
  },
  {
   "cell_type": "markdown",
   "metadata": {},
   "source": [
    "## Extract Precision"
   ]
  },
  {
   "cell_type": "code",
   "execution_count": null,
   "metadata": {},
   "outputs": [],
   "source": [
    "def precision_extractor(text):\n",
    "    "
   ]
  },
  {
   "cell_type": "code",
   "execution_count": null,
   "metadata": {},
   "outputs": [],
   "source": []
  },
  {
   "cell_type": "code",
   "execution_count": null,
   "metadata": {},
   "outputs": [],
   "source": []
  },
  {
   "cell_type": "code",
   "execution_count": null,
   "metadata": {},
   "outputs": [],
   "source": []
  },
  {
   "cell_type": "code",
   "execution_count": null,
   "metadata": {},
   "outputs": [],
   "source": []
  },
  {
   "cell_type": "code",
   "execution_count": null,
   "metadata": {},
   "outputs": [],
   "source": []
  },
  {
   "cell_type": "code",
   "execution_count": null,
   "metadata": {},
   "outputs": [],
   "source": []
  },
  {
   "cell_type": "code",
   "execution_count": null,
   "metadata": {},
   "outputs": [],
   "source": []
  }
 ],
 "metadata": {
  "kernelspec": {
   "display_name": "Python 3",
   "language": "python",
   "name": "python3"
  },
  "language_info": {
   "codemirror_mode": {
    "name": "ipython",
    "version": 3
   },
   "file_extension": ".py",
   "mimetype": "text/x-python",
   "name": "python",
   "nbconvert_exporter": "python",
   "pygments_lexer": "ipython3",
   "version": "3.6.4"
  }
 },
 "nbformat": 4,
 "nbformat_minor": 2
}
