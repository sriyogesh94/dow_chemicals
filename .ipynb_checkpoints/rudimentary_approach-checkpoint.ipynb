{
 "cells": [
  {
   "cell_type": "code",
   "execution_count": 163,
   "metadata": {},
   "outputs": [],
   "source": [
    "import PyPDF2\n",
    "import re\n",
    "import os\n",
    "from chemdataextractor import Document"
   ]
  },
  {
   "cell_type": "code",
   "execution_count": 20,
   "metadata": {},
   "outputs": [],
   "source": [
    "list_of_files = os.listdir('./sample_methods')"
   ]
  },
  {
   "cell_type": "code",
   "execution_count": 21,
   "metadata": {},
   "outputs": [
    {
     "data": {
      "text/plain": [
       "['100011.pdf',\n",
       " '101212-E17D.pdf',\n",
       " '100024.pdf',\n",
       " '102452-E10B.pdf',\n",
       " '101931-E07B.pdf',\n",
       " '100077.pdf',\n",
       " '102557-E11A.pdf',\n",
       " '102668-E18B.pdf',\n",
       " '102819-E17A.pdf']"
      ]
     },
     "execution_count": 21,
     "metadata": {},
     "output_type": "execute_result"
    }
   ],
   "source": [
    "list_of_files"
   ]
  },
  {
   "cell_type": "code",
   "execution_count": 22,
   "metadata": {},
   "outputs": [],
   "source": [
    "def pdf_parser(filepath):\n",
    "    filename = filepath\n",
    "    pdfFileObj = open(filename,'rb')\n",
    "    pdfReader = PyPDF2.PdfFileReader(pdfFileObj)\n",
    "    num_pages = pdfReader.numPages\n",
    "    count = 0\n",
    "    text = \"\"\n",
    "    while count < num_pages:\n",
    "        pageObj = pdfReader.getPage(count)\n",
    "        count +=1\n",
    "        text += pageObj.extractText()\n",
    "        \n",
    "    if text != \"\":\n",
    "        text = text\n",
    "    \n",
    "#     else:\n",
    "#         text = textract.process(fileurl, method='tesseract', language='eng')\n",
    "    \n",
    "    return text\n"
   ]
  },
  {
   "cell_type": "code",
   "execution_count": 23,
   "metadata": {
    "scrolled": true
   },
   "outputs": [
    {
     "name": "stderr",
     "output_type": "stream",
     "text": [
      "PdfReadWarning: Xref table not zero-indexed. ID numbers for objects will be corrected. [pdf.py:1736]\n"
     ]
    }
   ],
   "source": [
    "text_list = [pdf_parser('sample_methods/' + i) for i in list_of_files]"
   ]
  },
  {
   "cell_type": "markdown",
   "metadata": {},
   "source": [
    "* __Deleted file no. 5__"
   ]
  },
  {
   "cell_type": "code",
   "execution_count": 24,
   "metadata": {},
   "outputs": [],
   "source": [
    "for idx, i in enumerate(text_list):\n",
    "    if i == '':\n",
    "        del text_list[idx]"
   ]
  },
  {
   "cell_type": "markdown",
   "metadata": {},
   "source": [
    "## Document ID"
   ]
  },
  {
   "cell_type": "code",
   "execution_count": 25,
   "metadata": {},
   "outputs": [
    {
     "data": {
      "text/plain": [
       "['100011',\n",
       " '101212-E17D',\n",
       " '100024',\n",
       " '102452-E10B',\n",
       " '101931-E07B',\n",
       " '102557-E11A',\n",
       " '102668-E18B',\n",
       " '102819-E17A']"
      ]
     },
     "execution_count": 25,
     "metadata": {},
     "output_type": "execute_result"
    }
   ],
   "source": [
    "doc_ids = [re.search(r'\\d{6,7}\\s{0,5}-\\s{0,5}\\w{0,1}\\s{0,5}\\d{0,2}\\s{0,5}\\w{0,2}\\s{0,5}B{0,1}', i, flags=0).group() \n",
    "           if re.search(r'\\d{6,7}\\s{0,5}-\\s{0,5}\\w{0,1}\\s{0,5}\\d{0,2}\\s{0,5}\\w{0,1}\\s{0,5}B{0,1}', i, flags=0) != None \n",
    "           else re.search(r'\\d{6,7}', i, flags=0).group() for i in text_list]\n",
    "\n",
    "doc_ids = [re.sub(r'[\\n\\s+]', '', i) for i in doc_ids]\n",
    "\n",
    "doc_ids"
   ]
  },
  {
   "cell_type": "markdown",
   "metadata": {},
   "source": [
    "## Extract Scope"
   ]
  },
  {
   "cell_type": "code",
   "execution_count": 90,
   "metadata": {},
   "outputs": [],
   "source": [
    "def scope_extractor(text):\n",
    "    scope_pattern = re.search(r'this\\smethod\\sis', text.lower(), flags=0)\n",
    "    next_sec_pattern = re.search(r'\\d.\\s+\\w+.', text[scope_pattern.start():], flags=0)\n",
    "    return text[scope_pattern.start():scope_pattern.start() + next_sec_pattern.start()]"
   ]
  },
  {
   "cell_type": "code",
   "execution_count": 99,
   "metadata": {},
   "outputs": [],
   "source": [
    "extracted_scopes = [scope_extractor(i) for i in text_list]"
   ]
  },
  {
   "cell_type": "code",
   "execution_count": 179,
   "metadata": {},
   "outputs": [
    {
     "name": "stdout",
     "output_type": "stream",
     "text": [
      "This method is applicable to the analysis of \n",
      "benzyl alcohol in \n",
      "low density \n",
      "polyethylene \n",
      "pellets \n",
      "over \n",
      "the range o\n",
      "f 0.\n"
     ]
    }
   ],
   "source": [
    "print(extracted_scopes[5])"
   ]
  },
  {
   "cell_type": "code",
   "execution_count": 180,
   "metadata": {},
   "outputs": [
    {
     "data": {
      "text/plain": [
       "[Span('benzyl alcohol', 46, 60), Span('low density \\npolyethylene', 65, 90)]"
      ]
     },
     "execution_count": 180,
     "metadata": {},
     "output_type": "execute_result"
    }
   ],
   "source": [
    "a = Document(extracted_scopes[5])\n",
    "\n",
    "a.cems"
   ]
  },
  {
   "cell_type": "markdown",
   "metadata": {},
   "source": [
    "## Extract Precision"
   ]
  },
  {
   "cell_type": "code",
   "execution_count": 154,
   "metadata": {},
   "outputs": [],
   "source": [
    "def precision_extractor(text):\n",
    "    precision_pattern = re.search(r'\\d{1,2}.\\s+Pre\\s{0,1}cision', text, flags=0)\n",
    "    next_sec_pattern = re.search(r'\\d{1,2}\\.\\s+\\w+.', text[precision_pattern.end():], flags=0)\n",
    "    return text[precision_pattern.start():precision_pattern.end() + next_sec_pattern.start()]"
   ]
  },
  {
   "cell_type": "code",
   "execution_count": 162,
   "metadata": {},
   "outputs": [
    {
     "data": {
      "text/plain": [
       "'12.\\n \\nPre\\ncision\\n \\n12.1\\n \\nPrecision \\nhas been \\ndetermined from \\nmultiple analyses o\\nf\\n \\ntwo \\npowder \\nbatches\\n \\n[n = 2\\n0]\\n \\nand \\none \\npellet \\nbatch\\n \\n[n = 1\\n0]\\n.  The \\naverage \\nvolatiles \\ncontent \\nranged from \\n0.60\\n \\nto 0.81% (w/w).  \\nThe precision data indicate a pooled standard deviation [s\\npooled\\n] of \\n\\n \\n0.022\\n% and pooled \\nrelative standard deviation \\n(RSD) \\n[\\nRSDp\\nooled\\n] \\nof \\n \\n\\n \\n3.\\n1\\n%. \\n \\n12.2\\n \\nAt the \\n95% confidence\\n \\nlevel\\n, individual measurements on similar samples may vary from \\nthe \\nlong\\n-\\nterm average\\n \\nby \\n\\n \\n0.045\\n% \\n[t × s\\npooled\\n, where t = t\\n-\\nvalue \\nof 2.05\\n \\nat \\n27\\n \\ndegrees of \\nfreedom\\n]\\n \\nand \\n\\n \\n6.\\n4\\n% relative [t × \\nRSDpooled\\n, where t = t\\n-\\nvalue \\nof \\n'"
      ]
     },
     "execution_count": 162,
     "metadata": {},
     "output_type": "execute_result"
    }
   ],
   "source": [
    "precision_extractor(text_list[7])"
   ]
  },
  {
   "cell_type": "code",
   "execution_count": 158,
   "metadata": {},
   "outputs": [],
   "source": [
    "extracted_precision = [precision_extractor(i) for i in text_list]"
   ]
  },
  {
   "cell_type": "code",
   "execution_count": 160,
   "metadata": {},
   "outputs": [
    {
     "data": {
      "text/plain": [
       "'12. Precision    Precision has been determined \\nfrom multiple analyses [n = \\n20] of two \\nsynthetic \\nprepared samples of \\nbenzyl alcohol in water\\n.  The synthetic samples were prepared fresh daily (Section 4.1). \\nThe analyses \\nwere performed on two separate days at an average benzyl alcohol\\n concentration\\n [x] of \\n0.09 ppm \\n(g/g).  The precision data indicate a standard deviation [\\ns] of \\n0.01\\n ppm (\\ng/g\\n), where s = standard \\ndeviation of the validation data.\\n  \\n The estimated prediction interval at the 95% confidence level of a future final result determined on a \\nsimilar sample [±\\n t(n-1) × s; where t\\n(n-1)   = 2.093 =\\n t-value at (n\\n-1) degrees of freedom] is ± \\n0.01 ppm \\n(g/g)\\n.  This assumes a normal distribution of results and equal variability between locations.\\n  Any future final result obtained on a similar sample (with a true \\nbenz\\nyl alcohol concentration\\n [x] of \\n0.090 ppm (\\ng/g)\\n) is expected to range from \\n0.08 to 0.10 \\nppm (\\ng/g) \\nat the 95% confidence level.\\n    The distribution of the res\\nults i\\ns assumed to be normal.  Th\\ne validity of this assumption h\\nas been \\nverifi\\ned using the Shapiro\\n-Wilk test for normality.  The test confirmed that the results could originate\\n from a normal distribution. \\n     '"
      ]
     },
     "execution_count": 160,
     "metadata": {},
     "output_type": "execute_result"
    }
   ],
   "source": [
    "extracted_precision[5]"
   ]
  },
  {
   "cell_type": "code",
   "execution_count": null,
   "metadata": {},
   "outputs": [],
   "source": []
  },
  {
   "cell_type": "code",
   "execution_count": null,
   "metadata": {},
   "outputs": [],
   "source": []
  },
  {
   "cell_type": "code",
   "execution_count": null,
   "metadata": {},
   "outputs": [],
   "source": []
  },
  {
   "cell_type": "code",
   "execution_count": null,
   "metadata": {},
   "outputs": [],
   "source": []
  },
  {
   "cell_type": "code",
   "execution_count": null,
   "metadata": {},
   "outputs": [],
   "source": []
  }
 ],
 "metadata": {
  "kernelspec": {
   "display_name": "Python 3",
   "language": "python",
   "name": "python3"
  },
  "language_info": {
   "codemirror_mode": {
    "name": "ipython",
    "version": 3
   },
   "file_extension": ".py",
   "mimetype": "text/x-python",
   "name": "python",
   "nbconvert_exporter": "python",
   "pygments_lexer": "ipython3",
   "version": "3.6.4"
  }
 },
 "nbformat": 4,
 "nbformat_minor": 2
}
