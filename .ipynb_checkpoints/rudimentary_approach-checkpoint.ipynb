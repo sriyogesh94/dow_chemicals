{
 "cells": [
  {
   "cell_type": "code",
   "execution_count": 19,
   "metadata": {},
   "outputs": [],
   "source": [
    "import PyPDF2\n",
    "import re\n",
    "import os\n",
    "import chemdataextractor"
   ]
  },
  {
   "cell_type": "code",
   "execution_count": 20,
   "metadata": {},
   "outputs": [],
   "source": [
    "list_of_files = os.listdir('./sample_methods')"
   ]
  },
  {
   "cell_type": "code",
   "execution_count": 21,
   "metadata": {},
   "outputs": [
    {
     "data": {
      "text/plain": [
       "['100011.pdf',\n",
       " '101212-E17D.pdf',\n",
       " '100024.pdf',\n",
       " '102452-E10B.pdf',\n",
       " '101931-E07B.pdf',\n",
       " '100077.pdf',\n",
       " '102557-E11A.pdf',\n",
       " '102668-E18B.pdf',\n",
       " '102819-E17A.pdf']"
      ]
     },
     "execution_count": 21,
     "metadata": {},
     "output_type": "execute_result"
    }
   ],
   "source": [
    "list_of_files"
   ]
  },
  {
   "cell_type": "code",
   "execution_count": 22,
   "metadata": {},
   "outputs": [],
   "source": [
    "def pdf_parser(filepath):\n",
    "    filename = filepath\n",
    "    pdfFileObj = open(filename,'rb')\n",
    "    pdfReader = PyPDF2.PdfFileReader(pdfFileObj)\n",
    "    num_pages = pdfReader.numPages\n",
    "    count = 0\n",
    "    text = \"\"\n",
    "    while count < num_pages:\n",
    "        pageObj = pdfReader.getPage(count)\n",
    "        count +=1\n",
    "        text += pageObj.extractText()\n",
    "        \n",
    "    if text != \"\":\n",
    "        text = text\n",
    "    \n",
    "#     else:\n",
    "#         text = textract.process(fileurl, method='tesseract', language='eng')\n",
    "    \n",
    "    return text\n"
   ]
  },
  {
   "cell_type": "code",
   "execution_count": 23,
   "metadata": {
    "scrolled": true
   },
   "outputs": [
    {
     "name": "stderr",
     "output_type": "stream",
     "text": [
      "PdfReadWarning: Xref table not zero-indexed. ID numbers for objects will be corrected. [pdf.py:1736]\n"
     ]
    }
   ],
   "source": [
    "text_list = [pdf_parser('sample_methods/' + i) for i in list_of_files]"
   ]
  },
  {
   "cell_type": "markdown",
   "metadata": {},
   "source": [
    "* __Deleted file no. 5__"
   ]
  },
  {
   "cell_type": "code",
   "execution_count": 24,
   "metadata": {},
   "outputs": [],
   "source": [
    "for idx, i in enumerate(text_list):\n",
    "    if i == '':\n",
    "        del text_list[idx]"
   ]
  },
  {
   "cell_type": "markdown",
   "metadata": {},
   "source": [
    "## Document ID"
   ]
  },
  {
   "cell_type": "code",
   "execution_count": 25,
   "metadata": {},
   "outputs": [
    {
     "data": {
      "text/plain": [
       "['100011',\n",
       " '101212-E17D',\n",
       " '100024',\n",
       " '102452-E10B',\n",
       " '101931-E07B',\n",
       " '102557-E11A',\n",
       " '102668-E18B',\n",
       " '102819-E17A']"
      ]
     },
     "execution_count": 25,
     "metadata": {},
     "output_type": "execute_result"
    }
   ],
   "source": [
    "doc_ids = [re.search(r'\\d{6,7}\\s{0,5}-\\s{0,5}\\w{0,1}\\s{0,5}\\d{0,2}\\s{0,5}\\w{0,2}\\s{0,5}B{0,1}', i, flags=0).group() \n",
    "           if re.search(r'\\d{6,7}\\s{0,5}-\\s{0,5}\\w{0,1}\\s{0,5}\\d{0,2}\\s{0,5}\\w{0,1}\\s{0,5}B{0,1}', i, flags=0) != None \n",
    "           else re.search(r'\\d{6,7}', i, flags=0).group() for i in text_list]\n",
    "\n",
    "doc_ids = [re.sub(r'[\\n\\s+]', '', i) for i in doc_ids]\n",
    "\n",
    "doc_ids"
   ]
  },
  {
   "cell_type": "markdown",
   "metadata": {},
   "source": [
    "## Matrix Formulation"
   ]
  },
  {
   "cell_type": "code",
   "execution_count": 26,
   "metadata": {
    "scrolled": true
   },
   "outputs": [
    {
     "data": {
      "text/plain": [
       "' \\n \\n\\n \\nPage \\n1\\n \\nof \\n3\\n \\n\\nCopyright 2018\\n \\nThe Dow Chemical Company. All rights reserved.\\n \\n \\nTHE INFORMATION HEREIN IS PRESENTED IN GOOD FAITH, BUT NO WARRANTY, \\nEXPRESS OR IMPLIED, IS GIVEN NOR IS \\nFREEDOM FROM INFRINGEMENT OF ANY PATENT OWNED BY THE DOW CHEMICAL COMPANY OR BY OTHERS TO BE \\nINFERRED.  IN THE HANDS OF QUALIFIED PERSONNEL, THE PROCEDURES ARE EXPECTED TO YIELD RESULTS OF \\nSUFFICIENT ACCURACY FOR THEIR I\\nNTENDED PURPOSE; BUT RECIPIENTS ARE CAUTIONED TO CONFIRM THE \\nRELIABILITY OF THEIR TECHNIQUES, EQUIPMENT, AND STANDARDS BY APPROPRIATE TESTS.  ANYONE WISHING TO \\nREPRODUCE OR PUBLISH THIS MATERIAL IN WHOLE OR IN PART SHOULD REQUEST WRITTEN PERMISSION FROM TH\\nE \\nDOW CH\\nEMICAL COMPANY.\\n \\nTEST METHOD\\n \\n \\nEffective:\\n \\n29\\n \\nJanuary\\n \\n2018\\n \\nDOWM\\n \\n102668\\n-\\nE1\\n8\\nB\\n \\nSupersedes:\\n \\nDOWM 102668\\n-\\nE12A\\n \\n \\n \\n\\n \\n1.\\n \\nScope \\n(Note 10.1)\\n \\n1.1\\n \\nThis method is applicable to the determination of \\nvolatiles \\nin \\n\\nCellulose\\n \\n(HEC)\\n, with upper limit of specification \\nof 6% f\\nor most HEC grades \\nand maximum \\nof \\n8\\n% \\nfor some grades\\n. \\n \\n \\n2.\\n \\nPrinciple\\n \\n2.1\\n \\nA known mass of \\n\\nis dried in an oven at 110 \\n\\nC for \\n60 minutes.  \\nThe volatiles content (or Loss on Drying) of the material is determined and \\nreported to the nearest 0.\\n0\\n1% (w/w).\\n \\n3.\\n \\nSafety\\n \\n3.1\\n \\nEach analyst must be acquainted with the potential haza\\nrds of the equipment, reagents, \\nproducts, solvents and procedures before beginning laboratory work.  SOURCES OF \\nINFORMATION INCLUDE:  OPERATION MANUALS, MATERIAL SAFETY DATA \\nSHEETS, LITERATURE AND OTHER RELATED DATA.  Safety information should be \\nrequested\\n \\nfrom the supplier.  Disposal of waste materials, reagents, reactants and solvents must \\nbe in \\ncompliance with applicable governmental and company requirements.\\n \\n4.\\n \\nInterferences\\n \\n4.1\\n \\nNo direct interferences have been observed in the use of this method.  If results \\nare suspect \\nbased on the analytical history of the product, the data should be confirmed by an alternate \\nmethod.\\n \\n5.\\n \\nApparatus\\n \\n(Note 10.2\\n)\\n \\n5.1\\n \\nAnalytical balance:  capable of weighing to 0.0001 g, Mettler model \\nMS204\\n, available from \\nMettler\\n-\\nToledo\\n,\\n \\nInc., or equiva\\nlent.\\n \\n5.2\\n \\nConstant temperature oven: \\n \\nFisher IsoTemp Oven, 200 Series, Model 215F, 45.3\\n-\\nL (1.6\\n-\\nft\\n3\\n) \\nvolume, available from Fisher Scientific, or equivalent.\\n \\n29 January\\n \\n2018\\n \\n \\n \\nDOWM 102668\\n-\\nE18B\\n \\n\\n \\nPage \\n2\\n \\nof \\n3\\n \\n \\n5.3\\n \\nThermometer: \\n \\nASTM 67C, (95 to 155 °C), NIST traceable, part no. 61099\\n-\\n140, available \\nfrom VWR \\nInternational, or equivalent.\\n \\n5.4\\n \\nAluminum dishes: \\n \\nwith covers, 62\\n-\\nmm diameter, 18\\n-\\nmm depth, available from VW\\nR \\nInternational, or equivalent\\n.\\n \\n5.5\\n \\nDesiccant cartridge: \\n \\nScienceware, (anhydrous calcium sulfate with cobaltous chloride \\nindicator), part no. 42045\\n-\\n0200\\n, available from Fisher Scientific, or equivalent.\\n \\n5.6\\n \\nHigh vacuum grease: \\n \\npart no. 59344\\n-\\n055, available from VWR International, or equivalent.\\n \\n5.7\\n \\nLaboratory glass desiccator\\n \\nwith cover:\\n \\n \\n200\\n-\\nmm flange i.d.,\\n \\n310\\n-\\nmm height, part no. 89001\\n-\\n722, available from VWR \\nInternational, or equivalent.\\n \\nNote: \\n \\nThe desiccator should be loaded with an indicating desiccant cartri\\ndge (Section 5.5) prior to \\nuse. \\n \\nT\\nhe \\ndesiccator \\ncover should remain in place except when dishes are added to or removed from \\nthe desiccator. \\n \\nTo facilit\\nate easy removal of the lid, a thin film of high vacuum grease (Section 5.6) \\nmay \\nbe applied to the bottom lip of the \\ndesiccator\\n \\ncover\\n.\\n \\n6.\\n \\nProcedure\\n \\n6.1\\n \\nTare the balance, \\nand weigh a clean aluminum dish\\n \\nwith \\ncover, and\\n \\nrecord the weight to\\n \\nthe \\nnearest 0.0001 \\ng \\n(Note 10.3\\n).\\n \\n6.2\\n \\nAdd 5 \\n± \\n0.1 g of sample to the dish, recording t\\nhe weight to the nearest 0.0001 \\ng.\\n \\n6.3\\n \\nPlace the dish (uncovered) into a 110 \\n\\n \\n5 \\n\\nC constant temperature oven for 60 minutes.\\n \\n6.4\\n \\nCover th\\ne dish in the oven with the lid\\n \\nand transfer to a desiccator.\\n \\n6.5\\n \\nAll\\now the sample to cool for a minimum of 5 minutes and a maximum of 10 minutes.\\n \\n6.6\\n \\nReweigh the dish wit\\nh the lid to the nearest 0.0001 \\ng.\\n \\n7.\\n \\nCalculation\\ns\\n \\n7.1\\n \\nCalculate the percent volatiles by weight as follows:\\n \\n \\nwhere:\\n \\n \\n \\n%Volatiles\\n \\n=\\n \\nv\\nolatiles content of the samples \\n% \\n(\\nw/w)\\n \\nA\\n \\n=\\n \\nw\\neight (g) of sample plus dish prior to heating\\n \\n(Section 6.1 + 6.2\\n)\\n \\nB\\n \\n=\\n \\nw\\neight (g) of sample \\nplus dish after \\nheating\\n \\n(Section 6.6\\n)\\n \\nC\\n \\n=\\n \\nweight (g) of the sample \\nprior to heating (Section 6.2\\n)\\n \\n \\n8.\\n \\nPre\\ncision\\n \\n8.1\\n \\nData \\nobtained from multiple\\n \\n\\nat least two \\nseparate \\ndays indicate averages and relative standard deviations [\\nRSD = 100 \\n\\n \\n(s/\\n), where \\ns\\n \\n= standard deviation of the validation data and \\n \\n= average of the validation data\\n] as listed \\nin the table below. \\n \\n29 January\\n \\n2018\\n \\n \\n \\nDOWM 102668\\n-\\nE18B\\n \\n\\n \\nPage \\n3\\n \\nof \\n3\\n \\n \\n8.2\\n \\nAt the 95% confidence level, individual measurements on similar samples may vary from the \\nlong\\n-\\nterm average by the values shown below \\n[± t\\n(n\\n-\\n1)\\n \\n\\n \\nRSD; where t\\n(n\\n-\\n1)\\n \\n= t\\n-\\nvalue at n\\n-\\n1 \\ndegrees of freedom].  This assumes a normal distribution of results and equal variability \\nbetween locations.\\n \\n\\nHEC Product\\n \\nn\\n \\nt\\n(n\\n-\\n1)\\n \\nAverage\\n \\nStandard\\n \\nDeviation\\n \\nRSD\\n \\nAt the 95% confidence level, \\nindividual measurements \\nmay vary from the long\\n-\\nterm \\naverage by:\\n \\n \\n \\n \\n% \\n(\\nw/w\\n)\\n \\n% \\n(\\nw/w\\n)\\n \\n(%)\\n \\n(\\n\\n \\n%\\n)\\n \\nQP 100M\\n \\n10\\n \\n2.26\\n \\n4.0\\n \\n0.024\\n \\n0.60\\n \\n1.4\\n \\nER 4400\\n \\n10\\n \\n2.26\\n \\n6.7\\n \\n0.09\\n \\n1.4\\n \\n3.1\\n \\nQP52000H\\n \\n9\\n \\n2.26\\n \\n5.8\\n \\n0.024\\n \\n0.4\\n1\\n \\n0.06\\n \\n \\n8.3\\n \\nThe distributions of the results are assumed to be normal. The validity of this assumption has \\nbeen \\nverified using the Shapiro\\n-\\nWilk test for normality. The test confirmed that the results \\ncould originate from normal distributions.\\n \\n9.\\n \\nAccuracy\\n \\n9.1\\n \\nThe accuracy of the method could not be determined due to the unavailability of characterized\\n \\n\\n \\nHEC.\\n \\n10.\\n \\nNotes\\n \\n10.1\\n \\nT\\nhe \\nvolatiles (\\nLOD\\n)\\n \\nvalue is a function of both temperature and time, therefore the results \\nshould be reported together with these values. \\n \\nThe method is expected to be applicable to the \\nspecification range.\\n \\n10.2\\n \\nAnalytical method performance can be affected b\\ny minor differences in instrumentation, \\nreagents, and laboratory technique.  Consequently, the method should be qualified in the \\nperforming\\n \\nlaboratory to confirm its performance and suitability.  In addition, analytical \\ninstruments should be calibrated at \\nappropriate frequencies.\\n \\n10.3\\n \\nDishes and covers may be stored in an oven or desiccator to ensure they are dry and free from \\ncondensed moisture. When stored in an oven, the hot pans should be cooled to room \\ntemperature in a desiccator prior to use.\\n \\n \\n'"
      ]
     },
     "execution_count": 26,
     "metadata": {},
     "output_type": "execute_result"
    }
   ],
   "source": [
    "text_list[6]"
   ]
  },
  {
   "cell_type": "code",
   "execution_count": 29,
   "metadata": {},
   "outputs": [],
   "source": [
    "from chemdataextractor.nlp import ChemWordTokenizer"
   ]
  },
  {
   "cell_type": "code",
   "execution_count": 31,
   "metadata": {},
   "outputs": [],
   "source": [
    "a = ChemWordTokenizer(text_list[6])"
   ]
  },
  {
   "cell_type": "code",
   "execution_count": 35,
   "metadata": {
    "scrolled": false
   },
   "outputs": [
    {
     "ename": "TypeError",
     "evalue": "tokenize() missing 1 required positional argument: 's'",
     "output_type": "error",
     "traceback": [
      "\u001b[0;31m---------------------------------------------------------------------------\u001b[0m",
      "\u001b[0;31mTypeError\u001b[0m                                 Traceback (most recent call last)",
      "\u001b[0;32m<ipython-input-35-dd96ec738707>\u001b[0m in \u001b[0;36m<module>\u001b[0;34m()\u001b[0m\n\u001b[0;32m----> 1\u001b[0;31m \u001b[0ma\u001b[0m\u001b[0;34m.\u001b[0m\u001b[0mtokenize\u001b[0m\u001b[0;34m(\u001b[0m\u001b[0;34m)\u001b[0m\u001b[0;34m\u001b[0m\u001b[0m\n\u001b[0m",
      "\u001b[0;31mTypeError\u001b[0m: tokenize() missing 1 required positional argument: 's'"
     ]
    }
   ],
   "source": [
    "a.tokenize()"
   ]
  },
  {
   "cell_type": "code",
   "execution_count": null,
   "metadata": {},
   "outputs": [],
   "source": []
  },
  {
   "cell_type": "code",
   "execution_count": null,
   "metadata": {},
   "outputs": [],
   "source": []
  },
  {
   "cell_type": "code",
   "execution_count": null,
   "metadata": {},
   "outputs": [],
   "source": []
  },
  {
   "cell_type": "code",
   "execution_count": null,
   "metadata": {},
   "outputs": [],
   "source": []
  },
  {
   "cell_type": "markdown",
   "metadata": {},
   "source": [
    "## Precision"
   ]
  },
  {
   "cell_type": "code",
   "execution_count": null,
   "metadata": {},
   "outputs": [],
   "source": []
  },
  {
   "cell_type": "code",
   "execution_count": null,
   "metadata": {},
   "outputs": [],
   "source": []
  },
  {
   "cell_type": "code",
   "execution_count": null,
   "metadata": {},
   "outputs": [],
   "source": []
  },
  {
   "cell_type": "code",
   "execution_count": null,
   "metadata": {},
   "outputs": [],
   "source": []
  },
  {
   "cell_type": "code",
   "execution_count": null,
   "metadata": {},
   "outputs": [],
   "source": []
  },
  {
   "cell_type": "code",
   "execution_count": null,
   "metadata": {},
   "outputs": [],
   "source": []
  },
  {
   "cell_type": "code",
   "execution_count": null,
   "metadata": {},
   "outputs": [],
   "source": []
  },
  {
   "cell_type": "code",
   "execution_count": null,
   "metadata": {},
   "outputs": [],
   "source": []
  }
 ],
 "metadata": {
  "kernelspec": {
   "display_name": "Python 3",
   "language": "python",
   "name": "python3"
  },
  "language_info": {
   "codemirror_mode": {
    "name": "ipython",
    "version": 3
   },
   "file_extension": ".py",
   "mimetype": "text/x-python",
   "name": "python",
   "nbconvert_exporter": "python",
   "pygments_lexer": "ipython3",
   "version": "3.6.4"
  }
 },
 "nbformat": 4,
 "nbformat_minor": 2
}
